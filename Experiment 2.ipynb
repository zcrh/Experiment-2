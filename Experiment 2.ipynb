{
 "cells": [
  {
   "cell_type": "markdown",
   "id": "be973199-4230-487d-8114-f81517b8f0fb",
   "metadata": {},
   "source": [
    "# NORMALIZATION PROBLEM"
   ]
  },
  {
   "cell_type": "code",
   "execution_count": 35,
   "id": "005abb70-693e-4ea5-9be2-a7b76365cc98",
   "metadata": {},
   "outputs": [
    {
     "name": "stdout",
     "output_type": "stream",
     "text": [
      "Random 5x5 ndarray: \n",
      "[[0.3439769  0.02735126 0.55577407 0.37393299 0.17624033]\n",
      " [0.18354531 0.12026152 0.83535547 0.25012341 0.53747113]\n",
      " [0.41921964 0.19596103 0.53366411 0.72127142 0.62167004]\n",
      " [0.06376529 0.01232753 0.38486803 0.26190707 0.99075511]\n",
      " [0.18336614 0.22435123 0.75940533 0.12263346 0.075794  ]]\n",
      "\n",
      "Normalized X: \n",
      "[[-0.05655745 -1.2485834   0.74081237  0.05622064 -0.68804876]\n",
      " [-0.66054712 -0.89879669  1.79337491 -0.40989522  0.67190582]\n",
      " [ 0.22671496 -0.61380467  0.65757323  1.36387352  0.98889623]\n",
      " [-1.1114926  -1.30514444  0.0973887  -0.36553232  2.37842043]\n",
      " [-0.66122168 -0.50692181  1.50743931 -0.88986684 -1.06620712]]\n"
     ]
    }
   ],
   "source": [
    "import numpy as np\n",
    "\n",
    "#Create a random 5x5 ndarray, storing it into X and then display\n",
    "X = np.random.rand(5,5)\n",
    "print(\"Random 5x5 ndarray: \")\n",
    "print(X)\n",
    "\n",
    "#Calculating the mean and sd of x\n",
    "mean_of_X = X.mean()\n",
    "std_of_X = X.std()\n",
    "\n",
    "#Normalizing x using the given formula and displaying the result\n",
    "X_normalized = (X - mean_of_X) / std_of_X\n",
    "print(\"\\nNormalized X: \")\n",
    "print(X_normalized)\n",
    "\n",
    "#Save the normalized ndarray \n",
    "np.save('X_normalized.npy', X_normalized)\n",
    "\n",
    "\n"
   ]
  },
  {
   "cell_type": "markdown",
   "id": "88940f70-92b5-4fb0-b2f6-5762f75d475f",
   "metadata": {
    "scrolled": true
   },
   "source": [
    "# DIVISIBLE BY 3 PROBLEM"
   ]
  },
  {
   "cell_type": "code",
   "execution_count": 33,
   "id": "4995c96f-f527-421c-bc8b-b0929e9c5117",
   "metadata": {
    "scrolled": true
   },
   "outputs": [
    {
     "name": "stdout",
     "output_type": "stream",
     "text": [
      "A = \n",
      "[[    1     4     9    16    25    36    49    64    81   100]\n",
      " [  121   144   169   196   225   256   289   324   361   400]\n",
      " [  441   484   529   576   625   676   729   784   841   900]\n",
      " [  961  1024  1089  1156  1225  1296  1369  1444  1521  1600]\n",
      " [ 1681  1764  1849  1936  2025  2116  2209  2304  2401  2500]\n",
      " [ 2601  2704  2809  2916  3025  3136  3249  3364  3481  3600]\n",
      " [ 3721  3844  3969  4096  4225  4356  4489  4624  4761  4900]\n",
      " [ 5041  5184  5329  5476  5625  5776  5929  6084  6241  6400]\n",
      " [ 6561  6724  6889  7056  7225  7396  7569  7744  7921  8100]\n",
      " [ 8281  8464  8649  8836  9025  9216  9409  9604  9801 10000]]\n",
      "\n",
      "Elements divisible by 3: \n",
      "[   9   36   81  144  225  324  441  576  729  900 1089 1296 1521 1764\n",
      " 2025 2304 2601 2916 3249 3600 3969 4356 4761 5184 5625 6084 6561 7056\n",
      " 7569 8100 8649 9216 9801]\n"
     ]
    }
   ],
   "source": [
    "import numpy as np\n",
    "\n",
    "def ndarray_and_div_by_3():\n",
    "    # Create a 10x10 ndarray of the first 100 integers, by squaring it and arranging into a 10x10 ndarray\n",
    "    A = np.square(np.arange(1,101).reshape(10,10))\n",
    "    print(\"A = \")\n",
    "    print(A)\n",
    "\n",
    "    #Finding elements in ndarray A that is divisible by 3\n",
    "    div_by_3 = A[A % 3 == 0]\n",
    "    print(\"\\nElements divisible by 3: \")\n",
    "    print(div_by_3)\n",
    "    \n",
    "    #Save the result of the elements that are divisble by 3 as div_by_3.npy\n",
    "    np.save('div_by_3.npy',div_by_3)\n",
    "\n",
    "ndarray_and_div_by_3()"
   ]
  },
  {
   "cell_type": "code",
   "execution_count": null,
   "id": "6442a73d-2863-4244-a363-e902091ee7f9",
   "metadata": {},
   "outputs": [],
   "source": []
  }
 ],
 "metadata": {
  "kernelspec": {
   "display_name": "Python 3 (ipykernel)",
   "language": "python",
   "name": "python3"
  },
  "language_info": {
   "codemirror_mode": {
    "name": "ipython",
    "version": 3
   },
   "file_extension": ".py",
   "mimetype": "text/x-python",
   "name": "python",
   "nbconvert_exporter": "python",
   "pygments_lexer": "ipython3",
   "version": "3.12.4"
  }
 },
 "nbformat": 4,
 "nbformat_minor": 5
}
