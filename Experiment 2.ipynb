{
 "cells": [
  {
   "cell_type": "markdown",
   "id": "be973199-4230-487d-8114-f81517b8f0fb",
   "metadata": {},
   "source": [
    "# NORMALIZATION PROBLEM\n",
    "\n",
    "##### Normalization is one of the most basic preprocessing techniques in \n",
    "data analytics. This involves centering and scaling process. Centering means subtracting the data from th \r\n",
    "mean and scaling means dividing with its standard deviation. Mathematically, normalization can  e\r\n",
    "expressed   Z = (X-𝑥)/sd\n",
    "\n",
    "##### In Python, element-wise mean and element-wise standard deviation can be obtained by using .mean() and\n",
    ".std() calls \r\n",
    "In this problem, create a random 5 x 5 ndarray and store it to variable X. Normalize X. Save your normaliz d\r\n",
    "ndarray as X_normalized.\n",
    "\n",
    "##### Why do we use normalization? \n",
    "##### - Model accuracy and performance are both improved by normalized data. It helps algorithms that use distance measures, such support vector machines by keeping features with bigger scales from controlling the learning process. Data redundancy may be resolved and various types of data organization can be achieved with the help of normalization.npy�as:"
   ]
  },
  {
   "cell_type": "code",
   "execution_count": 40,
   "id": "005abb70-693e-4ea5-9be2-a7b76365cc98",
   "metadata": {},
   "outputs": [
    {
     "name": "stdout",
     "output_type": "stream",
     "text": [
      "Random 5x5 ndarray: \n",
      "[[0.92255668 0.13100281 0.76045725 0.33407295 0.36259258]\n",
      " [0.29612114 0.72076994 0.73801804 0.0538708  0.03348024]\n",
      " [0.68431061 0.37055651 0.28530581 0.38263628 0.99947888]\n",
      " [0.64556756 0.70723605 0.96664812 0.31806977 0.28160725]\n",
      " [0.12444656 0.40888528 0.24967201 0.90984155 0.02432984]]\n",
      "\n",
      "Normalized X: \n",
      "[[ 1.49817333 -1.11335975  0.96336698 -0.44338086 -0.34928749]\n",
      " [-0.56859332  0.83242869  0.88933446 -1.36783744 -1.43511097]\n",
      " [ 0.71214029 -0.32301251 -0.60427577 -0.28315835  1.75195879]\n",
      " [ 0.58431733  0.78777703  1.64364194 -0.49617934 -0.61647824]\n",
      " [-1.13499044 -0.19655637 -0.72184054  1.45622297 -1.46530042]]\n"
     ]
    }
   ],
   "source": [
    "# This line provides support for arrays or multidimensional array (ndarray)\n",
    "import numpy as np\n",
    "\n",
    "#Create a random 5x5 ndarray, storing it into X and then display\n",
    "X = np.random.rand(5,5)\n",
    "print(\"Random 5x5 ndarray: \")\n",
    "print(X)\n",
    "\n",
    "#Calculating the mean and sd of x\n",
    "mean_of_X = X.mean()\n",
    "std_of_X = X.std()\n",
    "\n",
    "#Normalizing x using the given formula and displaying the result\n",
    "X_normalized = (X - mean_of_X) / std_of_X\n",
    "print(\"\\nNormalized X: \")\n",
    "print(X_normalized)\n",
    "\n",
    "#Save the normalized ndarray \n",
    "np.save('X_normalized.npy', X_normalized)"
   ]
  },
  {
   "cell_type": "markdown",
   "id": "88940f70-92b5-4fb0-b2f6-5762f75d475f",
   "metadata": {
    "scrolled": true
   },
   "source": [
    "# DIVISIBLE BY 3 PROBLEM\n",
    "\n",
    "##### Create a 10 x 10 ndarray, which are the squares of the first 100 positive integers.\n",
    "From this ndarray, determine all the elements that are divisible by 3. Save the result as div_by_3.np\n",
    "2X\r\n"
   ]
  },
  {
   "cell_type": "code",
   "execution_count": 33,
   "id": "4995c96f-f527-421c-bc8b-b0929e9c5117",
   "metadata": {
    "scrolled": true
   },
   "outputs": [
    {
     "name": "stdout",
     "output_type": "stream",
     "text": [
      "A = \n",
      "[[    1     4     9    16    25    36    49    64    81   100]\n",
      " [  121   144   169   196   225   256   289   324   361   400]\n",
      " [  441   484   529   576   625   676   729   784   841   900]\n",
      " [  961  1024  1089  1156  1225  1296  1369  1444  1521  1600]\n",
      " [ 1681  1764  1849  1936  2025  2116  2209  2304  2401  2500]\n",
      " [ 2601  2704  2809  2916  3025  3136  3249  3364  3481  3600]\n",
      " [ 3721  3844  3969  4096  4225  4356  4489  4624  4761  4900]\n",
      " [ 5041  5184  5329  5476  5625  5776  5929  6084  6241  6400]\n",
      " [ 6561  6724  6889  7056  7225  7396  7569  7744  7921  8100]\n",
      " [ 8281  8464  8649  8836  9025  9216  9409  9604  9801 10000]]\n",
      "\n",
      "Elements divisible by 3: \n",
      "[   9   36   81  144  225  324  441  576  729  900 1089 1296 1521 1764\n",
      " 2025 2304 2601 2916 3249 3600 3969 4356 4761 5184 5625 6084 6561 7056\n",
      " 7569 8100 8649 9216 9801]\n"
     ]
    }
   ],
   "source": [
    "# This line provides support for arrays or multidimensional array (ndarray)\n",
    "import numpy as np\n",
    "\n",
    "def ndarray_and_div_by_3():\n",
    "    # Create a 10x10 ndarray of the first 100 integers (.arange function), by squaring it (.square function) and arranging into a 10x10 ndarray (.reshape function)\n",
    "    A = np.square(np.arange(1,101).reshape(10,10))\n",
    "    print(\"A = \")\n",
    "    print(A)\n",
    "\n",
    "    #Finding elements in ndarray A that is divisible by 3\n",
    "    div_by_3 = A[A % 3 == 0]\n",
    "    print(\"\\nElements divisible by 3: \")\n",
    "    print(div_by_3)\n",
    "    \n",
    "    #Save the result of the elements that are divisble by 3 as div_by_3.npy\n",
    "    np.save('div_by_3.npy',div_by_3)\n",
    "\n",
    "ndarray_and_div_by_3()"
   ]
  },
  {
   "cell_type": "code",
   "execution_count": null,
   "id": "6442a73d-2863-4244-a363-e902091ee7f9",
   "metadata": {},
   "outputs": [],
   "source": []
  }
 ],
 "metadata": {
  "kernelspec": {
   "display_name": "Python 3 (ipykernel)",
   "language": "python",
   "name": "python3"
  },
  "language_info": {
   "codemirror_mode": {
    "name": "ipython",
    "version": 3
   },
   "file_extension": ".py",
   "mimetype": "text/x-python",
   "name": "python",
   "nbconvert_exporter": "python",
   "pygments_lexer": "ipython3",
   "version": "3.12.4"
  }
 },
 "nbformat": 4,
 "nbformat_minor": 5
}
