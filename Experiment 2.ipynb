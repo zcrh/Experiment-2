{
 "cells": [
  {
   "cell_type": "markdown",
   "id": "b8ee8a9a-aa63-49b5-a805-b28139892ea0",
   "metadata": {},
   "source": [
    "# NORMALIZATION PROBLEM\n",
    "\n",
    "##### Normalization is one of the most basic preprocessing techniques in data analytics. This involves centering and scaling process. Centering means subtracting the data from the mean and scaling means dividing with its standard deviation. Mathematically, normalization can be expressed as:  Z = (X-𝑥)/sd. In Python, element-wise mean and element-wise standard deviation can be obtained by using .mean() and.std() calls. In this problem, create a random 5 x 5 ndarray and store it to variable X. Normalize X. Save your normalized ndarray as X_normalized.npy\n",
    "\n",
    "##### Why do we use normalization? \n",
    "##### - Model accuracy and performance are both improved by normalized data. It helps algorithms that use distance measures, such support vector machines by keeping features with bigger scales from controlling the learning process. Data redundancy may be resolved and various types of data organization can be achieved with the help of normalization.\r\n"
   ]
  },
  {
   "cell_type": "code",
   "execution_count": 30,
   "id": "005abb70-693e-4ea5-9be2-a7b76365cc98",
   "metadata": {},
   "outputs": [
    {
     "name": "stdout",
     "output_type": "stream",
     "text": [
      "Random 5x5 ndarray: \n",
      "[[0.59710917 0.30588285 0.32391373 0.49047258 0.83150912]\n",
      " [0.1229211  0.99224615 0.27504258 0.53338411 0.13024868]\n",
      " [0.50384816 0.13358147 0.21626588 0.72043821 0.59957076]\n",
      " [0.65373965 0.73555749 0.42341109 0.56515684 0.24705054]\n",
      " [0.82214312 0.21289679 0.50057632 0.05754141 0.50889845]]\n",
      "\n",
      "Normalized X: \n",
      "[[ 0.55370345 -0.62355858 -0.55067004  0.12263248  1.50124889]\n",
      " [-1.3631687   2.15101713 -0.74822824  0.29609936 -1.33354746]\n",
      " [ 0.17670235 -1.3200749  -0.98582894  1.0522525   0.56365429]\n",
      " [ 0.78262823  1.11337112 -0.1484589   0.4245384  -0.86138409]\n",
      " [ 1.46338749 -0.99944826  0.16347615 -1.62746153  0.1971178 ]]\n"
     ]
    }
   ],
   "source": [
    "# This line provides support for arrays or multidimensional array (ndarray)\n",
    "import numpy as np\n",
    "\n",
    "#Create a random 5x5 ndarray, storing it into X and then display\n",
    "X = np.random.rand(5,5)\n",
    "print(\"Random 5x5 ndarray: \")\n",
    "print(X)\n",
    "\n",
    "#Calculating the mean and sd of x\n",
    "mean_of_X = X.mean()\n",
    "std_of_X = X.std()\n",
    "\n",
    "#Normalizing x using the given formula and displaying the result\n",
    "X_normalized = (X - mean_of_X) / std_of_X\n",
    "print(\"\\nNormalized X: \")\n",
    "print(X_normalized)\n",
    "\n",
    "#Save the normalized ndarray \n",
    "np.save('X_normalized.npy', X_normalized)"
   ]
  },
  {
   "cell_type": "markdown",
   "id": "2f695125-64c3-436a-9c94-48cb01675242",
   "metadata": {},
   "source": [
    "# DIVISIBLE BY 3 PROBLEM\n",
    "\n",
    "##### Create a 10 x 10 ndarray, which are the squares of the first 100 positive integers. From this ndarray, determine all the elements that are divisible by 3. Save the result as div_by_3.npy"
   ]
  },
  {
   "cell_type": "code",
   "execution_count": 33,
   "id": "4995c96f-f527-421c-bc8b-b0929e9c5117",
   "metadata": {
    "scrolled": true
   },
   "outputs": [
    {
     "name": "stdout",
     "output_type": "stream",
     "text": [
      "A = \n",
      "[[    1     4     9    16    25    36    49    64    81   100]\n",
      " [  121   144   169   196   225   256   289   324   361   400]\n",
      " [  441   484   529   576   625   676   729   784   841   900]\n",
      " [  961  1024  1089  1156  1225  1296  1369  1444  1521  1600]\n",
      " [ 1681  1764  1849  1936  2025  2116  2209  2304  2401  2500]\n",
      " [ 2601  2704  2809  2916  3025  3136  3249  3364  3481  3600]\n",
      " [ 3721  3844  3969  4096  4225  4356  4489  4624  4761  4900]\n",
      " [ 5041  5184  5329  5476  5625  5776  5929  6084  6241  6400]\n",
      " [ 6561  6724  6889  7056  7225  7396  7569  7744  7921  8100]\n",
      " [ 8281  8464  8649  8836  9025  9216  9409  9604  9801 10000]]\n",
      "\n",
      "Elements divisible by 3: \n",
      "[   9   36   81  144  225  324  441  576  729  900 1089 1296 1521 1764\n",
      " 2025 2304 2601 2916 3249 3600 3969 4356 4761 5184 5625 6084 6561 7056\n",
      " 7569 8100 8649 9216 9801]\n"
     ]
    }
   ],
   "source": [
    "# This line provides support for arrays or multidimensional array (ndarray)\n",
    "import numpy as np\n",
    "\n",
    "def ndarray_and_div_by_3():\n",
    "    # Create a 10x10 ndarray of the first 100 integers (.arange function), by squaring it (.square function) and arranging into a 10x10 ndarray (.reshape function)\n",
    "    A = np.square(np.arange(1,101).reshape(10,10))\n",
    "    print(\"A = \")\n",
    "    print(A)\n",
    "\n",
    "    #Finding elements in ndarray A that is divisible by 3\n",
    "    div_by_3 = A[A % 3 == 0]\n",
    "    print(\"\\nElements divisible by 3: \")\n",
    "    print(div_by_3)\n",
    "    \n",
    "    #Save the result of the elements that are divisble by 3 as div_by_3.npy\n",
    "    np.save('div_by_3.npy',div_by_3)\n",
    "\n",
    "ndarray_and_div_by_3()"
   ]
  },
  {
   "cell_type": "code",
   "execution_count": null,
   "id": "6442a73d-2863-4244-a363-e902091ee7f9",
   "metadata": {},
   "outputs": [],
   "source": []
  }
 ],
 "metadata": {
  "kernelspec": {
   "display_name": "Python 3 (ipykernel)",
   "language": "python",
   "name": "python3"
  },
  "language_info": {
   "codemirror_mode": {
    "name": "ipython",
    "version": 3
   },
   "file_extension": ".py",
   "mimetype": "text/x-python",
   "name": "python",
   "nbconvert_exporter": "python",
   "pygments_lexer": "ipython3",
   "version": "3.12.4"
  }
 },
 "nbformat": 4,
 "nbformat_minor": 5
}
